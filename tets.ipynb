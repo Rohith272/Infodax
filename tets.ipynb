{
  "nbformat": 4,
  "nbformat_minor": 0,
  "metadata": {
    "colab": {
      "name": "tets",
      "provenance": [],
      "authorship_tag": "ABX9TyP3TreceuygoKQOOi944qo2",
      "include_colab_link": true
    },
    "kernelspec": {
      "name": "python3",
      "display_name": "Python 3"
    },
    "language_info": {
      "name": "python"
    }
  },
  "cells": [
    {
      "cell_type": "markdown",
      "metadata": {
        "id": "view-in-github",
        "colab_type": "text"
      },
      "source": [
        "<a href=\"https://colab.research.google.com/github/Rohith272/Infodax/blob/master/tets.ipynb\" target=\"_parent\"><img src=\"https://colab.research.google.com/assets/colab-badge.svg\" alt=\"Open In Colab\"/></a>"
      ]
    },
    {
      "cell_type": "code",
      "metadata": {
        "colab": {
          "base_uri": "https://localhost:8080/",
          "height": 128
        },
        "id": "pEKVWRq9Ubco",
        "outputId": "e2462df7-9aa2-4a11-99f5-2a804bc8cb7a"
      },
      "source": [
        "scale = 2 \n",
        "print (\" Enter x and y value then select an operation.\\n\") \n",
        "while (1) { \n",
        "print (\"x=? \"; x = read() \n",
        "print \"y=? \"; y = read() \n",
        "print \"Choose an operation: addition (1), subtraction (2), multiplication (3), division (4) \"; op = read() \n",
        "if (op == 1) print \"Addition: \", x, \"+\", y, \"=\", x+y;\n",
        "if (op == 2) print \"Subtraction: \", x, \"-\", y, \"=\", x-y; \n",
        "if (op == 3) print \"Multiplication: \", x, \"*\", y, \"=\", x*y; \n",
        "if (op == 4) print \"Division: \", x, \"/\", y, \"=\", x/y; print \"\\n\\n\" } \n",
        "quit"
      ],
      "execution_count": null,
      "outputs": [
        {
          "output_type": "error",
          "ename": "SyntaxError",
          "evalue": "ignored",
          "traceback": [
            "\u001b[0;36m  File \u001b[0;32m\"<ipython-input-3-24dfdafa07fd>\"\u001b[0;36m, line \u001b[0;32m3\u001b[0m\n\u001b[0;31m    while (1) {\u001b[0m\n\u001b[0m              ^\u001b[0m\n\u001b[0;31mSyntaxError\u001b[0m\u001b[0;31m:\u001b[0m invalid syntax\n"
          ]
        }
      ]
    },
    {
      "cell_type": "code",
      "metadata": {
        "id": "KO2bJZ3UUr6a"
      },
      "source": [
        ""
      ],
      "execution_count": null,
      "outputs": []
    }
  ]
}